{
  "nbformat": 4,
  "nbformat_minor": 0,
  "metadata": {
    "colab": {
      "provenance": []
    },
    "kernelspec": {
      "name": "python3",
      "display_name": "Python 3"
    },
    "language_info": {
      "name": "python"
    }
  },
  "cells": [
    {
      "cell_type": "markdown",
      "source": [
        "# Data Science Tools and Ecosystem"
      ],
      "metadata": {
        "id": "UxzgvxVr3Mmv"
      }
    },
    {
      "cell_type": "markdown",
      "source": [
        "In this notebook, Data Science Tools and Ecosystem are summarized.\n",
        "\n"
      ],
      "metadata": {
        "id": "8dKGUG5K3wVG"
      }
    },
    {
      "cell_type": "markdown",
      "source": [
        "Some of the popular languages that Data Scientists use are:\n",
        "\n",
        "\n",
        "1.   Python\n",
        "2.   R\n",
        "3.   Scala\n",
        "\n"
      ],
      "metadata": {
        "id": "Wd8IP9j34UxG"
      }
    },
    {
      "cell_type": "markdown",
      "source": [
        "Some of the commonly used libraries used by Data Scientists include:\n",
        "\n",
        "1. NumPy  \n",
        "2. Pandas  \n",
        "3. Matplotlib  \n",
        "4. Scikit-learn  \n",
        "5. TensorFlow  \n"
      ],
      "metadata": {
        "id": "NhZJ8KvO8iZJ"
      }
    },
    {
      "cell_type": "markdown",
      "source": [
        "| Data Science Tools        |\n",
        "|---------------------------|\n",
        "| Jupyter Notebook          |\n",
        "| RStudio                   |\n",
        "| Visual Studio Code (VSCode) |\n"
      ],
      "metadata": {
        "id": "3Olvz3ng4zE_"
      }
    },
    {
      "cell_type": "markdown",
      "source": [
        "### Below are a few examples of evaluating arithmetic expressions in Python.\n"
      ],
      "metadata": {
        "id": "aj3bQGsq5QTA"
      }
    },
    {
      "cell_type": "code",
      "execution_count": null,
      "metadata": {
        "id": "-EULCRZc2_tS"
      },
      "outputs": [],
      "source": [
        "# This is a simple arithmetic expression to multiply then add integers\n",
        "(3 * 4) + 5"
      ]
    },
    {
      "cell_type": "code",
      "source": [
        "# This will convert 200 minutes to hours by dividing by 60\n",
        "200 / 60"
      ],
      "metadata": {
        "id": "x6OcyePo5k8R"
      },
      "execution_count": null,
      "outputs": []
    },
    {
      "cell_type": "markdown",
      "source": [
        "**Objectives:**\n",
        "\n",
        "- List popular languages for Data Science  \n",
        "- List commonly used libraries in Data Science  \n",
        "- Create and execute cells in a Jupyter Notebook  \n",
        "- Perform basic arithmetic operations using Python  \n",
        "- Understand how to use Markdown for documentation\n"
      ],
      "metadata": {
        "id": "PS6_bWM55vyJ"
      }
    },
    {
      "cell_type": "markdown",
      "source": [
        "## Author\n",
        "\n",
        "Pratik Jitendra Patil\n"
      ],
      "metadata": {
        "id": "oq6S0gaE57id"
      }
    }
  ]
}